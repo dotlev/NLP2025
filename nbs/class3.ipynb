{
 "cells": [
  {
   "cell_type": "markdown",
   "id": "a770a164",
   "metadata": {},
   "source": [
    "# WORD EMBEDDINGS 101\n",
    "\n",
    "static word embeddings are numerical vector representations of words in an n-dimensional space\n",
    "\n",
    "What are static and dynamic word embeddings?\n",
    "\n",
    "Static embeddings represent each word with a single, fixed embedding vector. As you’ll see in Section 1.2, this can give some issues as a lot of words have more than one meaning.\n",
    "\n",
    "In contrast, dynamic (or contextual) embeddings assign vectors that change depending on the surrounding sentence or document. That is, the representation of a word adapts to the context it is in!"
   ]
  },
  {
   "cell_type": "markdown",
   "id": "f5e501f3",
   "metadata": {},
   "source": [
    "1.1 Load a Pretrained Embedding Model\n",
    "\n",
    "Start by installing the package gensim\n",
    "\n",
    "Import pathlib and KeyedVectors from gensim.models\n",
    "\n",
    "Load the pre-installed model GloVe\n"
   ]
  },
  {
   "cell_type": "code",
   "execution_count": 1,
   "id": "4e466f65",
   "metadata": {},
   "outputs": [
    {
     "name": "stdout",
     "output_type": "stream",
     "text": [
      "Defaulting to user installation because normal site-packages is not writeable\n",
      "Collecting gensim\n",
      "  Downloading gensim-4.3.3-cp312-cp312-manylinux_2_17_x86_64.manylinux2014_x86_64.whl.metadata (8.1 kB)\n",
      "Collecting numpy<2.0,>=1.18.5 (from gensim)\n",
      "  Downloading numpy-1.26.4-cp312-cp312-manylinux_2_17_x86_64.manylinux2014_x86_64.whl.metadata (61 kB)\n",
      "Collecting scipy<1.14.0,>=1.7.0 (from gensim)\n",
      "  Downloading scipy-1.13.1-cp312-cp312-manylinux_2_17_x86_64.manylinux2014_x86_64.whl.metadata (60 kB)\n",
      "Collecting smart-open>=1.8.1 (from gensim)\n",
      "  Downloading smart_open-7.3.1-py3-none-any.whl.metadata (24 kB)\n",
      "Collecting wrapt (from smart-open>=1.8.1->gensim)\n",
      "  Downloading wrapt-1.17.3-cp312-cp312-manylinux1_x86_64.manylinux_2_28_x86_64.manylinux_2_5_x86_64.whl.metadata (6.4 kB)\n",
      "Downloading gensim-4.3.3-cp312-cp312-manylinux_2_17_x86_64.manylinux2014_x86_64.whl (26.6 MB)\n",
      "\u001b[2K   \u001b[90m━━━━━━━━━━━━━━━━━━━━━━━━━━━━━━━━━━━━━━━━\u001b[0m \u001b[32m26.6/26.6 MB\u001b[0m \u001b[31m63.7 MB/s\u001b[0m  \u001b[33m0:00:00\u001b[0m6m0:00:01\u001b[0m0:01\u001b[0m\n",
      "\u001b[?25hDownloading numpy-1.26.4-cp312-cp312-manylinux_2_17_x86_64.manylinux2014_x86_64.whl (18.0 MB)\n",
      "\u001b[2K   \u001b[90m━━━━━━━━━━━━━━━━━━━━━━━━━━━━━━━━━━━━━━━━\u001b[0m \u001b[32m18.0/18.0 MB\u001b[0m \u001b[31m72.2 MB/s\u001b[0m  \u001b[33m0:00:00\u001b[0m6m0:00:01\u001b[0m\n",
      "\u001b[?25hDownloading scipy-1.13.1-cp312-cp312-manylinux_2_17_x86_64.manylinux2014_x86_64.whl (38.2 MB)\n",
      "\u001b[2K   \u001b[90m━━━━━━━━━━━━━━━━━━━━━━━━━━━━━━━━━━━━━━━━\u001b[0m \u001b[32m38.2/38.2 MB\u001b[0m \u001b[31m105.2 MB/s\u001b[0m  \u001b[33m0:00:00\u001b[0mm0:00:01\u001b[0m\n",
      "\u001b[?25hDownloading smart_open-7.3.1-py3-none-any.whl (61 kB)\n",
      "Downloading wrapt-1.17.3-cp312-cp312-manylinux1_x86_64.manylinux_2_28_x86_64.manylinux_2_5_x86_64.whl (88 kB)\n",
      "Installing collected packages: wrapt, numpy, smart-open, scipy, gensim\n",
      "\u001b[2K   \u001b[90m━━━━━━━━━━━━━━━━━━━━━━━━━━━━━━━━━━━━━━━━\u001b[0m \u001b[32m5/5\u001b[0m [gensim]2m4/5\u001b[0m [gensim]pen]\n",
      "\u001b[1A\u001b[2KSuccessfully installed gensim-4.3.3 numpy-1.26.4 scipy-1.13.1 smart-open-7.3.1 wrapt-1.17.3\n",
      "Note: you may need to restart the kernel to use updated packages.\n"
     ]
    }
   ],
   "source": [
    "%pip install gensim\n",
    "\n",
    "from pathlib import Path\n",
    "from gensim.models import KeyedVectors\n",
    "\n",
    "path = Path.cwd()\n",
    "models_path = path.parents[1] / \"resources\" / \"models\" \n",
    "\n",
    "# note the str() as KeyedVectors.load() needs a string path !\n",
    "model = KeyedVectors.load(str(models_path / \"glove_wiki_gigaword_300.kv\")) "
   ]
  },
  {
   "cell_type": "markdown",
   "id": "da8aac10",
   "metadata": {},
   "source": [
    "1.2 Exploring polysemous words\n",
    "\n",
    "Polysemy refers to words that have two or more meanings. There are many out there:\n",
    "\n",
    "Bat (the flying mouse-like animal and the thing used in baseball)\n",
    "\n",
    "Beat (the beat is the rythm of a song. To beat is to be violent)\n",
    "\n",
    "Groove (a ridge or cleft in something, the rhythm of a funky song)\n",
    "\n",
    "Leaves (might be leaves on a tree or someone leaving a place)\n",
    "\n",
    "We can look at the most similar words (cosine similarity) for the word leaves in our model to illustrate this:"
   ]
  },
  {
   "cell_type": "code",
   "execution_count": null,
   "id": "0b9c96fa",
   "metadata": {},
   "outputs": [
    {
     "data": {
      "text/plain": [
       "[('leaf', 0.5564894080162048),\n",
       " ('stems', 0.554435670375824),\n",
       " ('leaving', 0.5414506196975708),\n",
       " ('leave', 0.5339293479919434),\n",
       " ('ends', 0.526331901550293),\n",
       " ('flowers', 0.48853448033332825),\n",
       " ('stalks', 0.47854119539260864),\n",
       " ('grows', 0.47765129804611206),\n",
       " ('arrives', 0.4741629362106323),\n",
       " ('takes', 0.47301045060157776),\n",
       " ('foliage', 0.4626350700855255),\n",
       " ('turns', 0.4491370618343353),\n",
       " ('goes', 0.44434428215026855),\n",
       " ('becomes', 0.43927299976348877),\n",
       " ('comes', 0.43823492527008057)]"
      ]
     },
     "execution_count": 2,
     "metadata": {},
     "output_type": "execute_result"
    }
   ],
   "source": [
    "model.most_similar(\"leaves\", topn=15)\n",
    "\n"
   ]
  },
  {
   "cell_type": "markdown",
   "id": "e8a79af9",
   "metadata": {},
   "source": [
    "As a starting exercise, find a polysemous word like leaves or bat whose top-15 most similar words (by cosine similarity) reflect multiple meanings."
   ]
  },
  {
   "cell_type": "code",
   "execution_count": 6,
   "id": "b44aaeb0",
   "metadata": {},
   "outputs": [
    {
     "data": {
      "text/plain": [
       "[('duffle', 0.3645368218421936),\n",
       " ('shuttlecocks', 0.35407784581184387),\n",
       " ('barf', 0.3537319302558899),\n",
       " ('freebie', 0.3528185486793518),\n",
       " ('doggie', 0.34290772676467896),\n",
       " ('tote', 0.342420369386673),\n",
       " ('swags', 0.3379136919975281),\n",
       " ('tinsel', 0.33471372723579407),\n",
       " ('flexi-disc', 0.33352595567703247),\n",
       " ('curtains', 0.32994887232780457),\n",
       " ('eft', 0.32959410548210144),\n",
       " ('faves', 0.32771456241607666),\n",
       " ('rhinestones', 0.3239775002002716),\n",
       " ('goodies', 0.32389307022094727),\n",
       " ('cellophane', 0.3236596882343292)]"
      ]
     },
     "execution_count": 6,
     "metadata": {},
     "output_type": "execute_result"
    }
   ],
   "source": [
    "model.most_similar(\"dice\", topn=15)\n",
    "\n",
    "model.most_similar(\"swag\", topn=15)"
   ]
  },
  {
   "cell_type": "code",
   "execution_count": 26,
   "id": "5245a6b9",
   "metadata": {},
   "outputs": [
    {
     "data": {
      "text/plain": [
       "[('lights', 0.5719754695892334),\n",
       " ('bright', 0.5631998777389526),\n",
       " ('dark', 0.5300681591033936),\n",
       " ('sunlight', 0.5233156681060791),\n",
       " ('lighter', 0.5068577527999878),\n",
       " ('blue', 0.4855985641479492),\n",
       " ('heavy', 0.46853721141815186),\n",
       " ('ultraviolet', 0.45304983854293823),\n",
       " ('colored', 0.44439899921417236),\n",
       " ('shine', 0.44215908646583557),\n",
       " ('lighting', 0.4415198266506195),\n",
       " ('glow', 0.43947532773017883),\n",
       " ('illumination', 0.43754467368125916),\n",
       " ('color', 0.43374353647232056),\n",
       " ('visible', 0.4258178770542145)]"
      ]
     },
     "execution_count": 26,
     "metadata": {},
     "output_type": "execute_result"
    }
   ],
   "source": [
    "model.most_similar(\"light\", topn=15)"
   ]
  },
  {
   "cell_type": "markdown",
   "id": "d4133290",
   "metadata": {},
   "source": [
    "1.3 Synonyms and Antonyms\n",
    "\n",
    "Let’s explore synonyms and antonyms with word embeddings. One approach is cosine distance, defined as 1 - cosine similarity.\n",
    "\n",
    "The higher the distance, the farther apart two words are in vector space. This means that they should have less “in common”, but word embeddings are not always intuitive!\n",
    "\n",
    "For example, an antonym for the word \"happy\" is the word \"sad\":\n",
    "\n",
    "And a synonym for happy would becheerful:\n",
    "\n",
    "Although happy and cheerful are synonyms, happy is actually closer to sad than to cheerful in terms of cosine distance! We can also check this programatically with the boolean operator <\n",
    "\n",
    "With your knowledge about embeddings, can you explain why happy is closer to sad than cheerful? - happy probably co-occurs with sad or the same words as sad more often than cheerful because happy and sad would probably occur in documents with the same \"lix\" or lexical complexity"
   ]
  },
  {
   "cell_type": "code",
   "execution_count": 7,
   "id": "4d87c1e2",
   "metadata": {},
   "outputs": [
    {
     "data": {
      "text/plain": [
       "True"
      ]
     },
     "execution_count": 7,
     "metadata": {},
     "output_type": "execute_result"
    }
   ],
   "source": [
    "model.distance(\"happy\",\"sad\")\n",
    "\n",
    "model.distance(\"happy\",\"cheerful\")\n",
    "\n",
    "# if true, happy is closer to sad than to cheerful\n",
    "model.distance(\"happy\", \"sad\") < model.distance(\"happy\",\"cheerful\") "
   ]
  },
  {
   "cell_type": "markdown",
   "id": "bdc36b01",
   "metadata": {},
   "source": [
    "TASK 1\n",
    "\n",
    "Find three words (w1,w2,w3) where w1 and w2 are synonyms and w1 and w3 are antonyms, but where w1 is closer to its antonym w3 than to its synonym w2:\n",
    "\n",
    "Cosine Distance(w1,w3) < Cosine Distance(w1,w2)\n",
    "\n",
    "This is just what we did above!\n",
    "\n",
    "TASK 2\n",
    "\n",
    "Can you explain why your counter-intuitive example happens (with your knowledge about embeddings) ?"
   ]
  },
  {
   "cell_type": "code",
   "execution_count": 27,
   "id": "44c27d35",
   "metadata": {},
   "outputs": [
    {
     "data": {
      "text/plain": [
       "0.6624517738819122"
      ]
     },
     "execution_count": 27,
     "metadata": {},
     "output_type": "execute_result"
    }
   ],
   "source": [
    "model.distance(\"light\", \"lightweight\")"
   ]
  },
  {
   "cell_type": "code",
   "execution_count": 28,
   "id": "b6972fa2",
   "metadata": {},
   "outputs": [
    {
     "data": {
      "text/plain": [
       "0.5314628183841705"
      ]
     },
     "execution_count": 28,
     "metadata": {},
     "output_type": "execute_result"
    }
   ],
   "source": [
    "model.distance(\"light\", \"heavy\")"
   ]
  },
  {
   "cell_type": "code",
   "execution_count": 29,
   "id": "a2825832",
   "metadata": {},
   "outputs": [
    {
     "data": {
      "text/plain": [
       "0.6726333796977997"
      ]
     },
     "execution_count": 29,
     "metadata": {},
     "output_type": "execute_result"
    }
   ],
   "source": [
    "model.distance(\"light\",\"luminous\")"
   ]
  },
  {
   "cell_type": "code",
   "execution_count": 31,
   "id": "13f6a0fd",
   "metadata": {},
   "outputs": [
    {
     "data": {
      "text/plain": [
       "0.46993178129196167"
      ]
     },
     "execution_count": 31,
     "metadata": {},
     "output_type": "execute_result"
    }
   ],
   "source": [
    "model.distance(\"light\",\"dark\")"
   ]
  },
  {
   "cell_type": "markdown",
   "id": "9a376fd4",
   "metadata": {},
   "source": [
    "1.4 Exploring Word Analogies\n",
    "An interesting feature of trained word embeddings is that we can discover analogies by doing basic arithmetic (addition/subtraction). That is, the embedding for queen can be approximated as:\n",
    "\n",
    "queen = king - man + woman\n",
    "\n",
    "Corresponding to the statement “man is to king as woman is to queen” (I recommend reading Allen (2019) for deeper insights).\n",
    "\n",
    "In Python, we do this arithmetic with the method most_similar() using this (weird) syntax:"
   ]
  },
  {
   "cell_type": "code",
   "execution_count": null,
   "id": "fcdee5e2",
   "metadata": {},
   "outputs": [
    {
     "data": {
      "text/plain": [
       "('queen', 0.6713277101516724)"
      ]
     },
     "execution_count": 32,
     "metadata": {},
     "output_type": "execute_result"
    }
   ],
   "source": [
    "# what is = king + woman - man\n",
    "model.most_similar(positive=['king', 'woman'], \n",
    "                   negative=['man'])[0] # 0 to get only the closest word"
   ]
  },
  {
   "cell_type": "markdown",
   "id": "7b6b22ba",
   "metadata": {},
   "source": [
    "Your Turn: “Correct” & “Wrong” Analogies\n",
    "Please do this task with a classmate or two! Experiment and discuss!\n",
    "\n",
    "HANDS-ON\n",
    "\n",
    "Use the .most_similar() function on your model and do the following tasks:\n",
    "\n",
    "TASK A\n",
    "Find “correct” analogies. By “correct,” I mean analogies where the closest vector corresponds to the word you expect (like the king–queen example). You should:\n",
    "\n",
    "Try to find at least two analogies.\n",
    "\n",
    "TASK B\n",
    "Find “wrong” analogies. By “wrong,” I mean analogies that should work (like the king–queen example) but do not. You should:\n",
    "\n",
    "Try to find at least one where the closest vector does not correspond to what you expect!\n",
    "\n",
    "Consider why your analogies may not work!\n",
    "\n",
    "TASK C\n",
    "Share your best analogy (correct or wrong) on TaskCards. Remember to provide a short explanation!"
   ]
  },
  {
   "cell_type": "code",
   "execution_count": null,
   "id": "9d9966e7",
   "metadata": {},
   "outputs": [
    {
     "data": {
      "text/plain": [
       "('woman', 0.5048227906227112)"
      ]
     },
     "execution_count": 43,
     "metadata": {},
     "output_type": "execute_result"
    }
   ],
   "source": [
    "model.most_similar(positive=['man'], \n",
    "                   negative=['balls'])[0] # 0 to get only the closest word"
   ]
  },
  {
   "cell_type": "code",
   "execution_count": 62,
   "id": "43e46684",
   "metadata": {},
   "outputs": [
    {
     "data": {
      "text/plain": [
       "('man', 0.5385221838951111)"
      ]
     },
     "execution_count": 62,
     "metadata": {},
     "output_type": "execute_result"
    }
   ],
   "source": [
    "model.most_similar(positive=['woman'], \n",
    "                   negative=['tits'])[0] # 0 to get only the closest word"
   ]
  },
  {
   "cell_type": "code",
   "execution_count": 49,
   "id": "ea5a3b18",
   "metadata": {},
   "outputs": [
    {
     "data": {
      "text/plain": [
       "('newspaperman', 0.4105490446090698)"
      ]
     },
     "execution_count": 49,
     "metadata": {},
     "output_type": "execute_result"
    }
   ],
   "source": [
    "model.most_similar(positive=['junkie'], \n",
    "                   negative=['drugs'])[0] # 0 to get only the closest word"
   ]
  },
  {
   "cell_type": "code",
   "execution_count": 54,
   "id": "500b12cb",
   "metadata": {},
   "outputs": [
    {
     "data": {
      "text/plain": [
       "('cheeseburgers', 0.3650704622268677)"
      ]
     },
     "execution_count": 54,
     "metadata": {},
     "output_type": "execute_result"
    }
   ],
   "source": [
    "model.most_similar(positive=['fries'], \n",
    "                   negative=['potato'])[0] # 0 to get only the closest word"
   ]
  },
  {
   "cell_type": "code",
   "execution_count": 57,
   "id": "415c76a4",
   "metadata": {},
   "outputs": [
    {
     "data": {
      "text/plain": [
       "('sandwich', 0.6585514545440674)"
      ]
     },
     "execution_count": 57,
     "metadata": {},
     "output_type": "execute_result"
    }
   ],
   "source": [
    "model.most_similar(positive=['burger','cheese'])[0] # 0 to get only the closest word"
   ]
  },
  {
   "cell_type": "code",
   "execution_count": 61,
   "id": "17de44a3",
   "metadata": {},
   "outputs": [
    {
     "data": {
      "text/plain": [
       "('childhood', 0.5513194799423218)"
      ]
     },
     "execution_count": 61,
     "metadata": {},
     "output_type": "execute_result"
    }
   ],
   "source": [
    "model.most_similar(positive=['life','depression'])[0] # 0 to get only the closest word"
   ]
  },
  {
   "cell_type": "markdown",
   "id": "747d24a8",
   "metadata": {},
   "source": [
    "1.5 Uncovering Bias\n",
    "Due to the way embeddings are trained, they may contain some biases. While basic heuristics are fine, gender stereotypes can be problematic when applying these embeddings in the real world!\n",
    "\n",
    "Let’s try: director - man + woman\n",
    "\n",
    "Using some of the techniques you’ve worked on above, find at least one clear instance of bias in word embeddings."
   ]
  },
  {
   "cell_type": "code",
   "execution_count": 63,
   "id": "889b6bdf",
   "metadata": {},
   "outputs": [
    {
     "name": "stdout",
     "output_type": "stream",
     "text": [
      "[('assistant', 0.4793030619621277), ('chairwoman', 0.4766245186328888), ('executive', 0.46431592106819153), ('susan', 0.4622037410736084), ('spokeswoman', 0.4561289846897125), ('associate', 0.4546034634113312), ('directors', 0.44585472345352173), ('actress', 0.4415530860424042), ('deputy', 0.42916232347488403), ('researcher', 0.41419851779937744)]\n"
     ]
    }
   ],
   "source": [
    "print(model.most_similar(positive=[\"director\", \"woman\"],\n",
    "                          negative=['man']))"
   ]
  },
  {
   "cell_type": "code",
   "execution_count": 68,
   "id": "ffc4d288",
   "metadata": {},
   "outputs": [
    {
     "name": "stdout",
     "output_type": "stream",
     "text": [
      "[('guitarist', 0.6264199018478394), ('songwriter', 0.6201280951499939), ('composer', 0.6051713824272156), ('drummer', 0.5772380232810974), ('musicians', 0.5355761647224426), ('multi-instrumentalist', 0.5352658033370972), ('pianist', 0.5351281762123108), ('actor', 0.5213513374328613), ('guitar', 0.521259605884552), ('bassist', 0.5196665525436401)]\n"
     ]
    }
   ],
   "source": [
    "print(model.most_similar(positive=[\"musician\",\"man\"],\n",
    "                          negative=['woman']))"
   ]
  },
  {
   "cell_type": "code",
   "execution_count": 69,
   "id": "56e12e37",
   "metadata": {},
   "outputs": [
    {
     "name": "stdout",
     "output_type": "stream",
     "text": [
      "[('singer', 0.6913306713104248), ('songwriter', 0.6714069843292236), ('singer-songwriter', 0.6016770601272583), ('actress', 0.5864976048469543), ('artist', 0.5796062350273132), ('pianist', 0.5745943784713745), ('vocalist', 0.5606374144554138), ('educator', 0.5569909811019897), ('violinist', 0.5471984148025513), ('dancer', 0.5469552278518677)]\n"
     ]
    }
   ],
   "source": [
    "print(model.most_similar(positive=[\"musician\",\"woman\"],\n",
    "                          negative=['man']))"
   ]
  },
  {
   "cell_type": "markdown",
   "id": "f5abecf4",
   "metadata": {},
   "source": [
    "1.6 Visualization\n",
    "So far, we have looked at how words relate to each other with cosine scores. To get a better overview, we can also visualize these relationships!\n",
    "\n",
    "Dimensionality reduction\n",
    "Since embeddings usually have many more than 2 or 3 dimensions, we need to reduce their dimensionality in order to visualize them:\n",
    "\n",
    "Various dimensionality reduction algorithms exist. Two useful ones for our case is Principal Component Analysis (PCA) and T-distributed Stochastic Neighbor Embedding (TSNE).\n",
    "\n",
    "Start by installing scikit-learn:\n",
    "\n",
    "Let’s import PCA & TSNE (we only need one now, but we’ll want to compare later!)\n",
    "\n",
    "Choose a few words that we want to plot and extract embeddings from them:\n",
    "\n",
    "Define your own list of words. Select a few more than 8!\n",
    "\n",
    "Extract embeddings using a for loop (use my code for this!)\n",
    "\n",
    "Transform the embeddings using both PCA and TSNE\n",
    "\n",
    "For TSNE (see also hints below)\n",
    "\n",
    "You need to convert embeddings to a numpy array before using TSNE\n",
    "\n",
    "You need to set perplexity = 5 (you can experiment with the exact integer, but it has to be below the amount of words, see docs)\n",
    "\n",
    "Plot both versions using the code snippet above.\n",
    "\n",
    "Please share your words and either the PCA or TSNE plot on TaskCards\n",
    "\n",
    "For an extra challenge, you can try to 1) make relevant functions for this pipeline and 2) make the plot prettier!\n"
   ]
  },
  {
   "cell_type": "code",
   "execution_count": null,
   "id": "67cb04d4",
   "metadata": {},
   "outputs": [
    {
     "name": "stdout",
     "output_type": "stream",
     "text": [
      "Defaulting to user installation because normal site-packages is not writeable\n",
      "Requirement already satisfied: scikit-learn in /home/ucloud/.local/lib/python3.12/site-packages (1.7.2)\n",
      "Requirement already satisfied: numpy>=1.22.0 in /home/ucloud/.local/lib/python3.12/site-packages (from scikit-learn) (1.26.4)\n",
      "Requirement already satisfied: scipy>=1.8.0 in /home/ucloud/.local/lib/python3.12/site-packages (from scikit-learn) (1.13.1)\n",
      "Requirement already satisfied: joblib>=1.2.0 in /home/ucloud/.local/lib/python3.12/site-packages (from scikit-learn) (1.5.2)\n",
      "Requirement already satisfied: threadpoolctl>=3.1.0 in /home/ucloud/.local/lib/python3.12/site-packages (from scikit-learn) (3.6.0)\n",
      "Note: you may need to restart the kernel to use updated packages.\n",
      "Defaulting to user installation because normal site-packages is not writeable\n",
      "Requirement already satisfied: numpy in /home/ucloud/.local/lib/python3.12/site-packages (1.26.4)\n",
      "Note: you may need to restart the kernel to use updated packages.\n"
     ]
    }
   ],
   "source": [
    "#The packages we need\n",
    "\n",
    "%pip install scikit-learn\n",
    "\n",
    "from sklearn.decomposition import PCA\n",
    "from sklearn.manifold import TSNE\n",
    "\n",
    "%pip install numpy\n",
    "import numpy as np\n",
    "\n",
    "%pip install matplotlib pandas seaborn\n",
    "\n",
    "# best practice at top of notebook\n",
    "import matplotlib.pyplot as plt\n",
    "import pandas as pd\n",
    "import seaborn as sns"
   ]
  },
  {
   "cell_type": "code",
   "execution_count": 80,
   "id": "bcebedec",
   "metadata": {},
   "outputs": [],
   "source": [
    "# word we want to plot\n",
    "words = [\"happy\", \"cheerful\", \"delighted\", \"joyous\", \"ecstatic\", \"sad\", \"depressed\", \"sorrowful\",\"miserable\",\"unhappy\"]\n",
    "\n",
    "# an empty list for embeddings\n",
    "embeddings = []\n",
    "\n",
    "# get vectors for subset of words\n",
    "for word in words:\n",
    "    embeddings.append(model[word]) # get the embedding vector for each word using our MODEL"
   ]
  },
  {
   "cell_type": "markdown",
   "id": "b3d02573",
   "metadata": {},
   "source": [
    "We can now apply the PCA alg. to our embeddings for the chosen words. We write n_components = 2 to reduce dimensions to 2D:\n",
    "\n",
    "And we'll also do TSNE Before using TSNE, we need to convert your list of embeddings into a numpy array first:"
   ]
  },
  {
   "cell_type": "code",
   "execution_count": 81,
   "id": "c20e09e5",
   "metadata": {},
   "outputs": [],
   "source": [
    "pca = PCA(n_components=2, random_state=50) # instantiate PCA object\n",
    "embeddings_pc = pca.fit_transform(embeddings)\n",
    "\n",
    "embeddings_tsne = np.array(embeddings) # To do tsne you need to convert embeddings to a numpy array\n",
    "\n",
    "tsne = TSNE(n_components=2, random_state=42, perplexity=5) # Instantiate a TSNE object\n",
    "embeddings_tsne = tsne.fit_transform(embeddings_tsne)"
   ]
  },
  {
   "cell_type": "markdown",
   "id": "93069040",
   "metadata": {},
   "source": [
    "Plotting!\n",
    "Now that we have reduced the dimensions of our embddings, let’s plot our shit"
   ]
  },
  {
   "cell_type": "code",
   "execution_count": 82,
   "id": "56e4bcae",
   "metadata": {},
   "outputs": [
    {
     "data": {
      "image/png": "[encoded data removed]",
      "text/plain": [
       "<Figure size 800x600 with 1 Axes>"
      ]
     },
     "metadata": {},
     "output_type": "display_data"
    }
   ],
   "source": [
    "# convert to DF \n",
    "df_pc = pd.DataFrame(embeddings_pc, columns=[\"PC1\", \"PC2\"]) # common PCA dims PC1 and PC2\n",
    "df_pc[\"word\"] = words\n",
    "\n",
    "# create a scatter plot\n",
    "plt.figure(figsize=(8, 6)) # width, height\n",
    "\n",
    "sns.scatterplot(data=df_pc, \n",
    "                x=\"PC1\", # first dim on x\n",
    "                y=\"PC2\", # second dim on y\n",
    "                s=100, # size of points \n",
    "                color=\"blue\", \n",
    "                )\n",
    "\n",
    "\n",
    "# add words to points\n",
    "for _, row in df_pc.iterrows():\n",
    "    plt.annotate(\n",
    "        row[\"word\"],                     # text to display\n",
    "        (row[\"PC1\"], row[\"PC2\"]),        # coordinates of the point being labeled\n",
    "        xytext=(5, 5),                   # offset of the text from the point (in points)\n",
    "        textcoords=\"offset points\",      # interpret xytext in points relative to the point\n",
    "        fontsize=10\n",
    "    )\n",
    "\n",
    "plt.xlabel(\"PC1\")\n",
    "plt.ylabel(\"PC2\")\n",
    "plt.show()"
   ]
  },
  {
   "cell_type": "code",
   "execution_count": 84,
   "id": "341d3395",
   "metadata": {},
   "outputs": [
    {
     "data": {
      "image/png": "[encoded data removed]",
      "text/plain": [
       "<Figure size 800x600 with 1 Axes>"
      ]
     },
     "metadata": {},
     "output_type": "display_data"
    }
   ],
   "source": [
    "# convert to DF \n",
    "df_tsne = pd.DataFrame(embeddings_tsne, columns=[\"TSNE1\", \"TSNE2\"]) # common TSNE dims PC1 and PC2\n",
    "df_tsne[\"word\"] = words\n",
    "\n",
    "# create a scatter plot\n",
    "plt.figure(figsize=(8, 6)) # width, height\n",
    "\n",
    "sns.scatterplot(data=df_tsne, \n",
    "                x=\"TSNE1\", # first dim on x\n",
    "                y=\"TSNE2\", # second dim on y\n",
    "                s=100, # size of points \n",
    "                color=\"blue\", \n",
    "                )\n",
    "\n",
    "\n",
    "# add words to points\n",
    "for _, row in df_tsne.iterrows():\n",
    "    plt.annotate(\n",
    "        row[\"word\"],                     # text to display\n",
    "        (row[\"TSNE1\"], row[\"TSNE2\"]),        # coordinates of the point being labeled\n",
    "        xytext=(5, 5),                   # offset of the text from the point (in points)\n",
    "        textcoords=\"offset points\",      # interpret xytext in points relative to the point\n",
    "        fontsize=10\n",
    "    )\n",
    "\n",
    "plt.xlabel(\"TSNE1\")\n",
    "plt.ylabel(\"TSNE2\")\n",
    "plt.show()"
   ]
  }
 ],
 "metadata": {
  "kernelspec": {
   "display_name": "Python 3",
   "language": "python",
   "name": "python3"
  },
  "language_info": {
   "codemirror_mode": {
    "name": "ipython",
    "version": 3
   },
   "file_extension": ".py",
   "mimetype": "text/x-python",
   "name": "python",
   "nbconvert_exporter": "python",
   "pygments_lexer": "ipython3",
   "version": "3.12.3"
  }
 },
 "nbformat": 4,
 "nbformat_minor": 5
}
